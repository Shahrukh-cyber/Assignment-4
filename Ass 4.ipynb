{
 "cells": [
  {
   "cell_type": "markdown",
   "metadata": {},
   "source": [
    "# Question#01\n"
   ]
  },
  {
   "cell_type": "code",
   "execution_count": 1,
   "metadata": {},
   "outputs": [
    {
     "name": "stdout",
     "output_type": "stream",
     "text": [
      "{'First_name': 'Ali', 'Last_name': 'Ahmed', 'Age': 25, 'City': 'Karachi'}\n",
      "{'First_name': 'Ali', 'Last_name': 'Ahmed', 'Age': 25, 'City': 'Karachi', 'Qualification': 'Matric'}\n",
      "{'First_name': 'Ali', 'Last_name': 'Ahmed', 'Age': 25, 'City': 'Karachi', 'Qualification': 'Intermediate'}\n",
      "{'First_name': 'Ali', 'Last_name': 'Ahmed', 'Age': 25, 'City': 'Karachi'}\n"
     ]
    }
   ],
   "source": [
    "person ={'First_name':'Ali','Last_name':'Ahmed','Age':25,'City':'Karachi'}\n",
    "# Each Information print Process\n",
    "# print('First Name :',person['First_name'])\n",
    "# print('Last Name :',person['Last_name'])\n",
    "# print('Age :',person['Age'])\n",
    "# print('City :',person['City'])\n",
    "print(person) \n",
    "person['Qualification']='Matric'\n",
    "print(person) \n",
    "#print('Qualification :',person['Qualification'])\n",
    "person.update({'Qualification' :'Intermediate'})\n",
    "print(person)\n",
    "del person['Qualification']\n",
    "print(person)"
   ]
  },
  {
   "cell_type": "markdown",
   "metadata": {},
   "source": [
    "# Question#02"
   ]
  },
  {
   "cell_type": "code",
   "execution_count": 2,
   "metadata": {},
   "outputs": [
    {
     "name": "stdout",
     "output_type": "stream",
     "text": [
      "\n",
      "Karachi is in Pakistan.\n",
      "  It has a population of approximate 3 Crore.\n",
      "  The City has So Much Traffic And Water Problem\n",
      "\n",
      "Mumbai is in India.\n",
      "  It has a population of approximate 10 Crore.\n",
      "  The City has So Much Beggars And  Jobissues\n",
      "\n",
      "Toronto is in Canada.\n",
      "  It has a population of approximate 15 Crore.\n",
      "  The City has To Much Rules\n"
     ]
    }
   ],
   "source": [
    "cities = {\n",
    "    'Karachi': {\n",
    "        'country': 'Pakistan',\n",
    "        'population':'3 Crore',\n",
    "        'facts':'So Much Traffic And Water Problem' ,\n",
    "        },\n",
    "'Mumbai': {\n",
    "      'country': 'India',\n",
    "        'population':'10 Crore',\n",
    "        'facts':'So Much Beggars And  JobIssues' ,\n",
    "      \n",
    "        },\n",
    "    'Toronto': {\n",
    "        'country': 'Canada',\n",
    "        'population':'15 Crore',\n",
    "        'facts':'To much Rules' ,\n",
    "                }\n",
    "    }\n",
    "for city, city_info in cities.items():\n",
    "    country = city_info['country'].title()\n",
    "    population = city_info['population']\n",
    "    facts = city_info['facts'].title()\n",
    "\n",
    "    print(\"\\n\" + city.title() + \" is in \" + country + \".\")\n",
    "    print(\"  It has a population of approximate \" +(population) + \".\")\n",
    "    print(\"  The City has \"+ facts)\n",
    "    "
   ]
  },
  {
   "cell_type": "markdown",
   "metadata": {},
   "source": [
    "# Question#03"
   ]
  },
  {
   "cell_type": "code",
   "execution_count": 3,
   "metadata": {},
   "outputs": [
    {
     "name": "stdout",
     "output_type": "stream",
     "text": [
      "What is your Age ?12\n",
      "Ticket Price $10\n"
     ]
    }
   ],
   "source": [
    "age=int(input(\"What is your Age ?\"))\n",
    "for a in range(1):\n",
    "   if age<3:\n",
    "      print(\"No Ticket Price\")\n",
    "   elif age<=12:\n",
    "      print(\"Ticket Price $10\")\n",
    "   elif age>12:\n",
    "      print(\"Ticket Price $15\")\n",
    "  \n"
   ]
  },
  {
   "cell_type": "markdown",
   "metadata": {},
   "source": [
    "# Question#04"
   ]
  },
  {
   "cell_type": "code",
   "execution_count": 5,
   "metadata": {},
   "outputs": [
    {
     "name": "stdout",
     "output_type": "stream",
     "text": [
      " My favorite Book is Wonder Land\n"
     ]
    }
   ],
   "source": [
    "def favorite_book(title):\n",
    "    print(\" My favorite Book is \" + title )   \n",
    "favorite_book(\"Wonder Land\") "
   ]
  },
  {
   "cell_type": "markdown",
   "metadata": {},
   "source": [
    "# Question#05"
   ]
  },
  {
   "cell_type": "code",
   "execution_count": 15,
   "metadata": {},
   "outputs": [
    {
     "name": "stdout",
     "output_type": "stream",
     "text": [
      "26\n",
      "too low\n",
      "None\n"
     ]
    }
   ],
   "source": [
    "from random import randint\n",
    "def guess(x):\n",
    "    num = randint(1,30)\n",
    "    print(num)\n",
    "    if x == num:\n",
    "        print(\"You got it!\")\n",
    "    elif x > num:\n",
    "        print(\"too high\")\n",
    "    else:\n",
    "        print(\"too low\")\n",
    "print(guess(12))"
   ]
  },
  {
   "cell_type": "code",
   "execution_count": null,
   "metadata": {},
   "outputs": [],
   "source": []
  },
  {
   "cell_type": "code",
   "execution_count": null,
   "metadata": {},
   "outputs": [],
   "source": []
  }
 ],
 "metadata": {
  "kernelspec": {
   "display_name": "Python 3",
   "language": "python",
   "name": "python3"
  },
  "language_info": {
   "codemirror_mode": {
    "name": "ipython",
    "version": 3
   },
   "file_extension": ".py",
   "mimetype": "text/x-python",
   "name": "python",
   "nbconvert_exporter": "python",
   "pygments_lexer": "ipython3",
   "version": "3.7.3"
  }
 },
 "nbformat": 4,
 "nbformat_minor": 2
}
