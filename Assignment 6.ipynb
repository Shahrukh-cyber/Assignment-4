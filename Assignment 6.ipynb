{
 "cells": [
  {
   "cell_type": "markdown",
   "metadata": {},
   "source": [
    "# Question 1"
   ]
  },
  {
   "cell_type": "code",
   "execution_count": null,
   "metadata": {},
   "outputs": [],
   "source": [
    "python is also an object-oriented language since its beginning. Python is an object-oriented programming language.\n",
    "It allows us to develop applications using an Object Oriented approach.\n",
    "In Python, we can easily create and use classes and objects."
   ]
  },
  {
   "cell_type": "markdown",
   "metadata": {},
   "source": [
    "# Question 2"
   ]
  },
  {
   "cell_type": "code",
   "execution_count": null,
   "metadata": {},
   "outputs": [],
   "source": [
    "Modularity for easier troubleshooting. (Something has gone wrong, and you have no idea where to look.)\n",
    "Reuse of code through inheritance. \n",
    "Flexibility through polymorphism. \n",
    "Effective problem solving."
   ]
  },
  {
   "cell_type": "markdown",
   "metadata": {},
   "source": [
    "# Question 3"
   ]
  },
  {
   "cell_type": "code",
   "execution_count": null,
   "metadata": {},
   "outputs": [],
   "source": [
    "Method :\n",
    "   1 Method is called by its name, but it is associated to an object (dependent).\n",
    "   2 A method is implicitly passed the object on which it is invoked.\n",
    "   3 It may or may not return any data.\n",
    "   4 A method can operate on the data (instance variables) that is contained by the corresponding class\n",
    "Function :\n",
    "   1 Function is block of code that is also called by its name. (independent)\n",
    "   2 The function can have different parameters or may not have any at all. If any data (parameters) are passed, \n",
    "    they are passed explicitly.\n",
    "   3 It may or may not return any data.\n",
    "   4 Function does not deal with Class and its instance concept."
   ]
  },
  {
   "cell_type": "markdown",
   "metadata": {},
   "source": [
    "# Question 4"
   ]
  },
  {
   "cell_type": "code",
   "execution_count": null,
   "metadata": {},
   "outputs": [],
   "source": [
    "Class :\n",
    "    A class is a code template for creating objects.\n",
    "Object :\n",
    "    Object is simply a collection of data (variables) and methods (functions) that act on those data. \n",
    "Attribute :\n",
    "    An instance attribute is a Python variable belonging to one, and only one, object. \n",
    "    A class attribute is a Python variable that belongs to a class rather than a particular object.\n",
    "Behavior :\n",
    "    Objects in Python are generally classified according to their behaviors and the features that they implement."
   ]
  },
  {
   "cell_type": "markdown",
   "metadata": {},
   "source": [
    "# Question 5"
   ]
  },
  {
   "cell_type": "code",
   "execution_count": null,
   "metadata": {},
   "outputs": [],
   "source": [
    "class Car:    #class name\n",
    "   \n",
    "     # Attributes\n",
    "    name = \"c200\"\n",
    "    make = \"mercedez\"\n",
    "    model = 2008\n",
    "    color = \"black\"\n",
    "    price = \"3M\"\n",
    "Car_count = 0     \n",
    "    # Methods\n",
    "def park(self):\n",
    "    print(\"Car Parked\")\n",
    "    \n",
    "def stop(self):\n",
    "    print(\"Engine Switched off \")\n",
    "\n",
    "def start(self,name, make, model):    #instance\n",
    "        print (\"Engine started\")\n",
    "        self.name = name\n",
    "        self.make = make\n",
    "        self.model = model\n",
    "        Car.Car_count += 1\n",
    "Car_a = Car()\n",
    "Car_a.start(\"Corrola\", \"Toyota\", 2015)\n",
    "print(Car_a.name)\n",
    "\n"
   ]
  },
  {
   "cell_type": "markdown",
   "metadata": {},
   "source": []
  },
  {
   "cell_type": "code",
   "execution_count": null,
   "metadata": {},
   "outputs": [],
   "source": []
  }
 ],
 "metadata": {
  "kernelspec": {
   "display_name": "Python 3",
   "language": "python",
   "name": "python3"
  },
  "language_info": {
   "codemirror_mode": {
    "name": "ipython",
    "version": 3
   },
   "file_extension": ".py",
   "mimetype": "text/x-python",
   "name": "python",
   "nbconvert_exporter": "python",
   "pygments_lexer": "ipython3",
   "version": "3.7.3"
  }
 },
 "nbformat": 4,
 "nbformat_minor": 2
}
